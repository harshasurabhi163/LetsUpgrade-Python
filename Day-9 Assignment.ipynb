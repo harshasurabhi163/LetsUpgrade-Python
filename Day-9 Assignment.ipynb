{
 "cells": [
  {
   "cell_type": "code",
   "execution_count": 2,
   "metadata": {},
   "outputs": [
    {
     "name": "stdout",
     "output_type": "stream",
     "text": [
      "Requirement already satisfied: pylint in c:\\users\\lenovo.harsha\\anaconda3app\\lib\\site-packages (2.5.3)\n",
      "Requirement already satisfied: astroid<=2.5,>=2.4.0 in c:\\users\\lenovo.harsha\\anaconda3app\\lib\\site-packages (from pylint) (2.4.2)\n",
      "Requirement already satisfied: mccabe<0.7,>=0.6 in c:\\users\\lenovo.harsha\\anaconda3app\\lib\\site-packages (from pylint) (0.6.1)\n",
      "Requirement already satisfied: isort<5,>=4.2.5 in c:\\users\\lenovo.harsha\\anaconda3app\\lib\\site-packages (from pylint) (4.3.21)\n",
      "Requirement already satisfied: toml>=0.7.1 in c:\\users\\lenovo.harsha\\anaconda3app\\lib\\site-packages (from pylint) (0.10.1)\n",
      "Requirement already satisfied: colorama; sys_platform == \"win32\" in c:\\users\\lenovo.harsha\\anaconda3app\\lib\\site-packages (from pylint) (0.4.3)\n",
      "Requirement already satisfied: lazy-object-proxy==1.4.* in c:\\users\\lenovo.harsha\\anaconda3app\\lib\\site-packages (from astroid<=2.5,>=2.4.0->pylint) (1.4.3)\n",
      "Requirement already satisfied: six~=1.12 in c:\\users\\lenovo.harsha\\anaconda3app\\lib\\site-packages (from astroid<=2.5,>=2.4.0->pylint) (1.15.0)\n",
      "Requirement already satisfied: wrapt~=1.11 in c:\\users\\lenovo.harsha\\anaconda3app\\lib\\site-packages (from astroid<=2.5,>=2.4.0->pylint) (1.11.2)\n"
     ]
    }
   ],
   "source": [
    "! pip install pylint"
   ]
  },
  {
   "cell_type": "code",
   "execution_count": 6,
   "metadata": {},
   "outputs": [
    {
     "name": "stdout",
     "output_type": "stream",
     "text": [
      "Requirement already satisfied: unittest2 in c:\\users\\lenovo.harsha\\anaconda3app\\lib\\site-packages (1.1.0)\n",
      "Requirement already satisfied: six>=1.4 in c:\\users\\lenovo.harsha\\anaconda3app\\lib\\site-packages (from unittest2) (1.15.0)\n",
      "Requirement already satisfied: traceback2 in c:\\users\\lenovo.harsha\\anaconda3app\\lib\\site-packages (from unittest2) (1.4.0)\n",
      "Requirement already satisfied: argparse in c:\\users\\lenovo.harsha\\anaconda3app\\lib\\site-packages (from unittest2) (1.4.0)\n",
      "Requirement already satisfied: linecache2 in c:\\users\\lenovo.harsha\\anaconda3app\\lib\\site-packages (from traceback2->unittest2) (1.0.0)\n"
     ]
    }
   ],
   "source": [
    "!pip install unittest2"
   ]
  },
  {
   "cell_type": "markdown",
   "metadata": {},
   "source": [
    "# Question 1"
   ]
  },
  {
   "cell_type": "code",
   "execution_count": 11,
   "metadata": {},
   "outputs": [
    {
     "name": "stdout",
     "output_type": "stream",
     "text": [
      "Overwriting primenum.py\n"
     ]
    }
   ],
   "source": [
    "%%writefile primenum.py\n",
    "'''\n",
    "Program to check if a number is prime number or not\n",
    "'''\n",
    "def prime(num):\n",
    "    '''\n",
    "    Function returns true if it is prime else it returns false\n",
    "    '''\n",
    "    for i in range(2, num):\n",
    "        if num%i == 0:\n",
    "            return False\n",
    "    return True"
   ]
  },
  {
   "cell_type": "code",
   "execution_count": 12,
   "metadata": {},
   "outputs": [
    {
     "name": "stdout",
     "output_type": "stream",
     "text": [
      "\n",
      "--------------------------------------------------------------------\n",
      "\n",
      "Your code has been rated at 10.00/10 (previous run: 0.00/10, +10.00)\n",
      "\n",
      "\n",
      "\n"
     ]
    }
   ],
   "source": [
    "! pylint \"primenum.py\""
   ]
  },
  {
   "cell_type": "code",
   "execution_count": 19,
   "metadata": {},
   "outputs": [
    {
     "name": "stdout",
     "output_type": "stream",
     "text": [
      "Overwriting primetest.py\n"
     ]
    }
   ],
   "source": [
    "%%writefile primetest.py\n",
    "import unittest\n",
    "from primenum import prime\n",
    "class PrimeTestCase(unittest.TestCase):\n",
    "    def test_is_seven_prime(self):\n",
    "        self.assertTrue(prime(7))\n",
    "    def test_is_ten_prime(self):\n",
    "        self.assertFalse(prime(10))\n",
    "if __name__ == \"__main__\":\n",
    "    unittest.main()"
   ]
  },
  {
   "cell_type": "code",
   "execution_count": 20,
   "metadata": {},
   "outputs": [
    {
     "name": "stderr",
     "output_type": "stream",
     "text": [
      "..\n",
      "----------------------------------------------------------------------\n",
      "Ran 2 tests in 0.001s\n",
      "\n",
      "OK\n"
     ]
    }
   ],
   "source": [
    "!python primetest.py"
   ]
  },
  {
   "cell_type": "markdown",
   "metadata": {},
   "source": [
    "# Question 2"
   ]
  },
  {
   "cell_type": "code",
   "execution_count": 16,
   "metadata": {},
   "outputs": [],
   "source": [
    "def armstrong(lst):\n",
    "    for num in lst:\n",
    "        sum = 0\n",
    "        temp = num\n",
    "        while temp>0:\n",
    "            digit = temp % 10\n",
    "            sum += digit ** 3\n",
    "            temp //= 10\n",
    "        if num == sum:\n",
    "            yield num"
   ]
  },
  {
   "cell_type": "code",
   "execution_count": 19,
   "metadata": {},
   "outputs": [
    {
     "data": {
      "text/plain": [
       "<generator object armstrong at 0x0000027DD8AF9F20>"
      ]
     },
     "execution_count": 19,
     "metadata": {},
     "output_type": "execute_result"
    }
   ],
   "source": [
    "lst=list(range(1,1000))\n",
    "armstrong(lst)"
   ]
  },
  {
   "cell_type": "code",
   "execution_count": null,
   "metadata": {},
   "outputs": [],
   "source": []
  }
 ],
 "metadata": {
  "kernelspec": {
   "display_name": "Python 3",
   "language": "python",
   "name": "python3"
  },
  "language_info": {
   "codemirror_mode": {
    "name": "ipython",
    "version": 3
   },
   "file_extension": ".py",
   "mimetype": "text/x-python",
   "name": "python",
   "nbconvert_exporter": "python",
   "pygments_lexer": "ipython3",
   "version": "3.8.3"
  }
 },
 "nbformat": 4,
 "nbformat_minor": 4
}
