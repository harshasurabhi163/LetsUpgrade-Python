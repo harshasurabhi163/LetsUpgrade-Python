{
 "cells": [
  {
   "cell_type": "code",
   "execution_count": 8,
   "metadata": {},
   "outputs": [
    {
     "name": "stdout",
     "output_type": "stream",
     "text": [
      "1741725  is a armstrong number\n"
     ]
    }
   ],
   "source": [
    "#ArmStrong\n",
    "c=0\n",
    "for i in range(1042000,702648266):\n",
    "    n=i\n",
    "    if c==0:\n",
    "        num=len(str(i))\n",
    "        s=0\n",
    "        while n>0:\n",
    "            r=n%10\n",
    "            s=s+r**num\n",
    "            n=n//10\n",
    "        if i==s:\n",
    "            print(i,\" is a armstrong number\")\n",
    "            c=1\n",
    "    else:\n",
    "        break    "
   ]
  },
  {
   "cell_type": "code",
   "execution_count": null,
   "metadata": {},
   "outputs": [],
   "source": []
  }
 ],
 "metadata": {
  "kernelspec": {
   "display_name": "Python 3",
   "language": "python",
   "name": "python3"
  },
  "language_info": {
   "codemirror_mode": {
    "name": "ipython",
    "version": 3
   },
   "file_extension": ".py",
   "mimetype": "text/x-python",
   "name": "python",
   "nbconvert_exporter": "python",
   "pygments_lexer": "ipython3",
   "version": "3.8.3"
  }
 },
 "nbformat": 4,
 "nbformat_minor": 4
}
