{
 "cells": [
  {
   "cell_type": "markdown",
   "metadata": {},
   "source": [
    "# Question 1"
   ]
  },
  {
   "cell_type": "code",
   "execution_count": 6,
   "metadata": {},
   "outputs": [],
   "source": [
    "class bankaccount():\n",
    "    def __init__(self,ownername,balance):\n",
    "        self.ownername=ownername\n",
    "        self.balance=balance\n",
    "    def deposit(self):\n",
    "        n=int(input(\"Enter the amount deposited--\"))\n",
    "        b=n+self.balance\n",
    "        print(\"name-\",self.ownername)\n",
    "        print(\"balance is-\",b)\n",
    "    def withdraw(self):\n",
    "        w=int(input(\"Enter the amount to be withdrawn--\"))\n",
    "        if w>=self.balance:\n",
    "            print(\"Amount cant be with drawn\")\n",
    "        else:\n",
    "            m=self.balance-w\n",
    "            print(\"name-\",self.name)\n",
    "            print(\"current balance is-\",m)"
   ]
  },
  {
   "cell_type": "code",
   "execution_count": 2,
   "metadata": {},
   "outputs": [],
   "source": [
    "ac1=bankaccount(\"john\",25000)"
   ]
  },
  {
   "cell_type": "code",
   "execution_count": 4,
   "metadata": {},
   "outputs": [
    {
     "name": "stdout",
     "output_type": "stream",
     "text": [
      "Enter the amount deposited--2500\n",
      "name- john\n",
      "balance is- 27500\n"
     ]
    }
   ],
   "source": [
    "ac1.deposit()"
   ]
  },
  {
   "cell_type": "code",
   "execution_count": 5,
   "metadata": {},
   "outputs": [
    {
     "name": "stdout",
     "output_type": "stream",
     "text": [
      "Enter the amount to be withdrawn--27500\n",
      "Amount cant be with drawn\n"
     ]
    }
   ],
   "source": [
    "ac1.withdraw()"
   ]
  },
  {
   "cell_type": "markdown",
   "metadata": {},
   "source": [
    "# Question 2"
   ]
  },
  {
   "cell_type": "code",
   "execution_count": 16,
   "metadata": {},
   "outputs": [],
   "source": [
    "class area():\n",
    "    def __init__(self,r,h):\n",
    "        self.r=r\n",
    "        self.h=h\n",
    "    def volume(self):\n",
    "        pi=3.14\n",
    "        v=pi*(self.r**2)-self.h/3\n",
    "        print(\"Volume is-\",v)\n",
    "    def sarea(self):\n",
    "        pi=3.14\n",
    "        base=pi*(self.r**2)\n",
    "        side=pi*self.r*math.sqrt((self.r**2)+(self.h**2))\n",
    "        print(\"base surface area-\",base)\n",
    "        print(\"side surface area-\",side)"
   ]
  },
  {
   "cell_type": "code",
   "execution_count": 17,
   "metadata": {},
   "outputs": [],
   "source": [
    "a=area(4,5)"
   ]
  },
  {
   "cell_type": "code",
   "execution_count": 18,
   "metadata": {},
   "outputs": [
    {
     "name": "stdout",
     "output_type": "stream",
     "text": [
      "Volume is- 48.57333333333334\n"
     ]
    }
   ],
   "source": [
    "a.volume()"
   ]
  },
  {
   "cell_type": "code",
   "execution_count": 19,
   "metadata": {},
   "outputs": [
    {
     "name": "stdout",
     "output_type": "stream",
     "text": [
      "base surface area- 50.24\n",
      "side surface area- 80.42324042215658\n"
     ]
    }
   ],
   "source": [
    "a.sarea()"
   ]
  },
  {
   "cell_type": "code",
   "execution_count": null,
   "metadata": {},
   "outputs": [],
   "source": []
  }
 ],
 "metadata": {
  "kernelspec": {
   "display_name": "Python 3",
   "language": "python",
   "name": "python3"
  },
  "language_info": {
   "codemirror_mode": {
    "name": "ipython",
    "version": 3
   },
   "file_extension": ".py",
   "mimetype": "text/x-python",
   "name": "python",
   "nbconvert_exporter": "python",
   "pygments_lexer": "ipython3",
   "version": "3.8.3"
  }
 },
 "nbformat": 4,
 "nbformat_minor": 4
}
